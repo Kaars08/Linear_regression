{
 "cells": [
  {
   "cell_type": "markdown",
   "id": "790c81d6",
   "metadata": {},
   "source": [
    "# import libraries"
   ]
  },
  {
   "cell_type": "code",
   "execution_count": 1,
   "id": "153b6f89",
   "metadata": {},
   "outputs": [],
   "source": [
    "import numpy as np\n",
    "\n",
    "x = np.random.randn(1000)\n",
    "y = x+0.18*np.random.randn(1000)\n",
    " \n"
   ]
  },
  {
   "cell_type": "markdown",
   "id": "48b330e4",
   "metadata": {},
   "source": [
    "# linear regressio"
   ]
  },
  {
   "cell_type": "code",
   "execution_count": 2,
   "id": "b77862dd",
   "metadata": {},
   "outputs": [],
   "source": [
    "import matplotlib.pyplot as plt"
   ]
  },
  {
   "cell_type": "code",
   "execution_count": 3,
   "id": "6d55306c",
   "metadata": {},
   "outputs": [
    {
     "data": {
      "text/plain": [
       "1000"
      ]
     },
     "execution_count": 3,
     "metadata": {},
     "output_type": "execute_result"
    }
   ],
   "source": [
    "len(y)"
   ]
  },
  {
   "cell_type": "code",
   "execution_count": 4,
   "id": "16100b56",
   "metadata": {},
   "outputs": [
    {
     "name": "stdout",
     "output_type": "stream",
     "text": [
      "1.0069220126863272 -0.004936302270146194\n"
     ]
    },
    {
     "data": {
      "text/plain": [
       "[<matplotlib.lines.Line2D at 0x1e410fdda30>]"
      ]
     },
     "execution_count": 4,
     "metadata": {},
     "output_type": "execute_result"
    },
    {
     "data": {
      "image/png": "[encoded data removed]",
      "text/plain": [
       "<Figure size 432x288 with 1 Axes>"
      ]
     },
     "metadata": {
      "needs_background": "light"
     },
     "output_type": "display_data"
    }
   ],
   "source": [
    "slope = sum(x*y - y.mean()*x) / sum((x*x) - x.mean()*x)\n",
    "intercept = y.mean() - slope*x.mean()\n",
    "\n",
    "y_pred = slope*x+intercept\n",
    "print(slope,intercept)\n",
    "plt.scatter(x,y)\n",
    "plt.plot(x,y_pred,c = 'r')"
   ]
  },
  {
   "cell_type": "code",
   "execution_count": 5,
   "id": "17002368",
   "metadata": {},
   "outputs": [
    {
     "name": "stdout",
     "output_type": "stream",
     "text": [
      "slope: 1.0068803027882707 intercept: -0.004918571522868951\n"
     ]
    },
    {
     "data": {
      "text/plain": [
       "[<matplotlib.lines.Line2D at 0x1e411100970>]"
      ]
     },
     "execution_count": 5,
     "metadata": {},
     "output_type": "execute_result"
    },
    {
     "data": {
      "image/png": "[encoded data removed]",
      "text/plain": [
       "<Figure size 432x288 with 1 Axes>"
      ]
     },
     "metadata": {
      "needs_background": "light"
     },
     "output_type": "display_data"
    }
   ],
   "source": [
    "m = 0\n",
    "c = 0\n",
    "learn_rate = 0.01\n",
    "for i in range(500):\n",
    "    mse = sum((y - m*x+c)**2)/1000\n",
    "    dm = -2/1000*sum(x*(y-(m*x+c)))\n",
    "    dc = -2/1000*sum(y-(m*x+c))\n",
    "    m = m - learn_rate*dm\n",
    "    c = c - learn_rate*dc\n",
    "    least_mse = 10000\n",
    "    if(least_mse < mse):\n",
    "        least_mse = mse\n",
    "print('slope:',m,'intercept:',c)\n",
    "best_fit_line = m*x+c\n",
    "plt.scatter(x,y,c = 'blue')\n",
    "plt.plot(x,best_fit_line,c = 'red')"
   ]
  },
  {
   "cell_type": "code",
   "execution_count": 6,
   "id": "7506067f",
   "metadata": {},
   "outputs": [],
   "source": [
    "from sklearn.model_selection import train_test_split\n",
    "import pandas as pd\n",
    "x_train,x_test,y_train,y_test = train_test_split(x,y,test_size = 0.3,random_state = 0)\n",
    "#x_train = pd.DataFrame(x_train)\n",
    "#x_test = pd.DataFrame(x_test)"
   ]
  },
  {
   "cell_type": "code",
   "execution_count": 7,
   "id": "edc0dbc4",
   "metadata": {},
   "outputs": [
    {
     "data": {
      "text/plain": [
       "LinearRegression()"
      ]
     },
     "execution_count": 7,
     "metadata": {},
     "output_type": "execute_result"
    }
   ],
   "source": [
    "from sklearn.linear_model import LinearRegression\n",
    "\n",
    "reg = LinearRegression()\n",
    "reg.fit(x_train.reshape(-1,1),y_train)"
   ]
  },
  {
   "cell_type": "code",
   "execution_count": 8,
   "id": "152ccf47",
   "metadata": {},
   "outputs": [],
   "source": [
    "y_pred_sk = reg.predict(x_test.reshape(-1,1))"
   ]
  },
  {
   "cell_type": "code",
   "execution_count": 9,
   "id": "1c76f3c1",
   "metadata": {},
   "outputs": [],
   "source": [
    "m1 = reg.coef_\n",
    "c1 = reg.intercept_"
   ]
  },
  {
   "cell_type": "code",
   "execution_count": 10,
   "id": "7517bd28",
   "metadata": {},
   "outputs": [
    {
     "name": "stdout",
     "output_type": "stream",
     "text": [
      "for sklearn model:\n",
      " slope: [1.00374941] intercept: -0.001243393810232342\n",
      "for gradient descent model:\n",
      " slope: 1.0068803027882707 intercept: -0.004918571522868951\n",
      "for linear regression from scratch:\n",
      " slope: 1.0068803027882707 intercept: -0.004918571522868951\n"
     ]
    }
   ],
   "source": [
    "print('for sklearn model:\\n','slope:',m1,'intercept:',c1)\n",
    "print('for gradient descent model:\\n','slope:',m,'intercept:',c)\n",
    "print('for linear regression from scratch:\\n','slope:',m,'intercept:',c)"
   ]
  },
  {
   "cell_type": "markdown",
   "id": "ae6158fe",
   "metadata": {},
   "source": [
    "# Inferences:\n",
    "\n",
    "    1)slope and intercept values depends on the learning rate and the number of iterations for gradient descent model.\n",
    "    2)slope and intercept values are calculated directly from the formula in the model built from scratch."
   ]
  }
 ],
 "metadata": {
  "kernelspec": {
   "display_name": "Python 3 (ipykernel)",
   "language": "python",
   "name": "python3"
  },
  "language_info": {
   "codemirror_mode": {
    "name": "ipython",
    "version": 3
   },
   "file_extension": ".py",
   "mimetype": "text/x-python",
   "name": "python",
   "nbconvert_exporter": "python",
   "pygments_lexer": "ipython3",
   "version": "3.9.7"
  }
 },
 "nbformat": 4,
 "nbformat_minor": 5
}
